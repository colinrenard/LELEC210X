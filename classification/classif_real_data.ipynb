{
 "cells": [
  {
   "cell_type": "markdown",
   "metadata": {},
   "source": [
    "# Classification of the real data acquired through the whole chain\n"
   ]
  },
  {
   "cell_type": "code",
   "execution_count": 291,
   "metadata": {},
   "outputs": [],
   "source": [
    "import os\n",
    "import numpy as np\n",
    "import glob \n",
    "from natsort import natsorted\n",
    "import pickle\n",
    "\n",
    "from classification.datasets import Dataset\n",
    "from classification.utils.plots import plot_specgram, show_confusion_matrix, plot_decision_boundaries\n",
    "from classification.utils.utils import accuracy\n",
    "from classification.utils.audio_student import AudioUtil, Feature_vector_DS\n",
    "\n",
    "from sklearn.metrics import recall_score, precision_score"
   ]
  },
  {
   "cell_type": "markdown",
   "metadata": {},
   "source": [
    "Loading the different files"
   ]
  },
  {
   "cell_type": "code",
   "execution_count": 292,
   "metadata": {},
   "outputs": [],
   "source": [
    "birds = []\n",
    "\n",
    "for file in natsorted(glob.glob('src/classification/Melvecs/birds/*')):\n",
    "    melvec = np.load(file)\n",
    "    birds.append(melvec)\n",
    "\n",
    "chainsaw = []\n",
    "\n",
    "for file in natsorted(glob.glob('src/classification/Melvecs/chainsaw/*')):\n",
    "    melvec = np.load(file)\n",
    "    chainsaw.append(melvec)\n",
    "\n",
    "fire = []\n",
    "\n",
    "for file in natsorted(glob.glob('src/classification/Melvecs/fire/*')):\n",
    "    melvec = np.load(file)\n",
    "    fire.append(melvec)\n",
    "\n",
    "handsaw = []\n",
    "\n",
    "for file in natsorted(glob.glob('src/classification/Melvecs/handsaw/*')):\n",
    "    melvec = np.load(file)\n",
    "    handsaw.append(melvec)\n",
    "\n",
    "helicopter = []\n",
    "\n",
    "for file in natsorted(glob.glob('src/classification/Melvecs/helicopter/*')):\n",
    "    melvec = np.load(file)\n",
    "    helicopter.append(melvec)\n"
   ]
  },
  {
   "cell_type": "code",
   "execution_count": 293,
   "metadata": {},
   "outputs": [],
   "source": [
    "# Normalization of the feature vectors\n",
    "\n",
    "threshold = 0.7\n",
    "\n",
    "for i in range(len(birds)):\n",
    "    vector = birds[i][0]\n",
    "    mean = np.mean(vector)\n",
    "    for j in range(len(vector)):\n",
    "        if (vector[j] > threshold * mean):\n",
    "            birds[i][0][j] = vector[j] / mean\n",
    "\n",
    "for i in range(len(chainsaw)):\n",
    "    vector = chainsaw[i][0]\n",
    "    mean = np.mean(vector)\n",
    "    for j in range(len(vector)):\n",
    "        if (vector[j] > threshold * mean):\n",
    "            chainsaw[i][0][j] = vector[j] / mean\n",
    "\n",
    "for i in range(len(fire)):\n",
    "    vector = fire[i][0]\n",
    "    mean = np.mean(vector)\n",
    "    for j in range(len(vector)):\n",
    "        if (vector[j] > threshold * mean):\n",
    "            fire[i][0][j] = vector[j] / mean\n",
    "\n",
    "for i in range(len(handsaw)):\n",
    "    vector = handsaw[i][0]\n",
    "    mean = np.mean(vector)\n",
    "    for j in range(len(vector)):\n",
    "        if (vector[j] > threshold * mean):\n",
    "            handsaw[i][0][j] = vector[j] / mean\n",
    "\n",
    "for i in range(len(helicopter)):\n",
    "    vector = helicopter[i][0]\n",
    "    mean = np.mean(vector)\n",
    "    for j in range(len(vector)):\n",
    "        if (vector[j] > threshold * mean):\n",
    "            helicopter[i][0][j] = vector[j] / mean"
   ]
  },
  {
   "cell_type": "code",
   "execution_count": 294,
   "metadata": {},
   "outputs": [
    {
     "name": "stdout",
     "output_type": "stream",
     "text": [
      "25\n",
      "1\n",
      "4\n",
      "34\n",
      "15\n"
     ]
    }
   ],
   "source": [
    "classifier = pickle.load(open('data/models/randomforestNormalized.pickle', 'rb'))\n",
    "\n",
    "all_true = []\n",
    "for i in range(len(birds)):\n",
    "    all_true.append('birds')\n",
    "\n",
    "for i in range(len(chainsaw)):\n",
    "    all_true.append('chainsaw')\n",
    "\n",
    "for i in range(len(fire)):\n",
    "    all_true.append('fire')\n",
    "\n",
    "for i in range(len(handsaw)):\n",
    "    all_true.append('handsaw')\n",
    "\n",
    "for i in range(len(helicopter)):\n",
    "    all_true.append('helicopter')\n",
    "\n",
    "all_pred = []\n",
    "\n",
    "count = 0\n",
    "for i in birds:\n",
    "    pred = classifier.predict(i)\n",
    "    all_pred.append(pred[0])\n",
    "    if (pred == 'birds'): count += 1\n",
    "\n",
    "print(count)\n",
    "\n",
    "count = 0\n",
    "for i in chainsaw:\n",
    "    pred = classifier.predict(i)\n",
    "    all_pred.append(pred[0])\n",
    "    if (pred == 'chainsaw'): count += 1\n",
    "\n",
    "print(count)\n",
    "\n",
    "count = 0\n",
    "for i in fire:\n",
    "    pred = classifier.predict(i)\n",
    "    all_pred.append(pred[0])\n",
    "    if (pred == 'fire'): count += 1\n",
    "\n",
    "print(count)\n",
    "\n",
    "count = 0\n",
    "for i in handsaw:\n",
    "    pred = classifier.predict(i)\n",
    "    all_pred.append(pred[0])\n",
    "    if (pred == 'handsaw'): count += 1\n",
    "\n",
    "print(count)\n",
    "\n",
    "count = 0\n",
    "for i in helicopter:\n",
    "    pred = classifier.predict(i)\n",
    "    all_pred.append(pred[0])\n",
    "    if (pred == 'helicopter'): count += 1\n",
    "\n",
    "print(count)"
   ]
  },
  {
   "cell_type": "code",
   "execution_count": 296,
   "metadata": {},
   "outputs": [
    {
     "name": "stdout",
     "output_type": "stream",
     "text": [
      "0.34051724137931033\n",
      "[0.38461538 0.5        0.5        0.25185185 0.68181818]\n",
      "[0.55555556 0.02173913 0.08510638 0.77272727 0.3       ]\n",
      "0.46365708365708364\n",
      "0.34702566833926685\n"
     ]
    }
   ],
   "source": [
    "%matplotlib tk\n",
    "# Confusion matrix, accuracy, precision and recall\n",
    "classnames = ['birds', 'chainsaw', 'fire', 'handsaw', 'helicopter']\n",
    "show_confusion_matrix(all_pred, all_true, classnames)\n",
    "\n",
    "def accuracy(pred, true):\n",
    "    acc = 0\n",
    "    for i in range(len(pred)):\n",
    "        if (pred[i] == all_true[i]):\n",
    "            acc+=1\n",
    "    return acc / len(pred)\n",
    "\n",
    "print(accuracy(all_pred, all_true))\n",
    "print(precision_score(all_true, all_pred, average=None))\n",
    "print(recall_score(all_true, all_pred, average=None))\n",
    "\n",
    "print(np.mean(precision_score(all_true, all_pred, average=None)))\n",
    "print(np.mean(recall_score(all_true, all_pred, average=None)))"
   ]
  }
 ],
 "metadata": {
  "kernelspec": {
   "display_name": "lelec210x-1z0NCqGZ-py3.9",
   "language": "python",
   "name": "python3"
  },
  "language_info": {
   "codemirror_mode": {
    "name": "ipython",
    "version": 3
   },
   "file_extension": ".py",
   "mimetype": "text/x-python",
   "name": "python",
   "nbconvert_exporter": "python",
   "pygments_lexer": "ipython3",
   "version": "3.9.0"
  }
 },
 "nbformat": 4,
 "nbformat_minor": 2
}
