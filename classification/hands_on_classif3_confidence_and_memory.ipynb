{
  "cells": [
    {
      "cell_type": "code",
      "execution_count": 1,
      "metadata": {},
      "outputs": [],
      "source": [
        "### TO RUN\n",
        "import os\n",
        "import numpy as np\n",
        "import matplotlib.pyplot as plt\n",
        "from sklearn.decomposition import PCA\n",
        "\n",
        "\"Machine learning tools\"\n",
        "import pickle\n",
        "\n",
        "from classification.datasets import Dataset\n",
        "from classification.utils.audio_student import AudioUtil, Feature_vector_DS"
      ]
    },
    {
      "cell_type": "markdown",
      "metadata": {},
      "source": [
        "Useful functions to select, read and play the dataset sounds are provided in the ``classification`` directory. <br>\n",
        "\n",
        "As for the H1, you will have to fill some short pieces of code, as well as answer some questions. We already created cells for you to answer the questions to ensure you don't forget it ;). <br>\n",
        "You will find the zones to be briefly filled  with a ``### TO COMPLETE`` in the cells below.\n",
        "\n",
        "<font size=6 color=#009999> 3. Probability vector and memory  [~30min-1h] </font> <br>"
      ]
    },
    {
      "cell_type": "code",
      "execution_count": 2,
      "metadata": {},
      "outputs": [
        {
          "name": "stdout",
          "output_type": "stream",
          "text": [
            "birds\n",
            "chainsaw\n",
            "fire\n",
            "handsaw\n",
            "helicopter\n"
          ]
        }
      ],
      "source": [
        "### TO RUN\n",
        "dataset = Dataset()\n",
        "classnames = dataset.list_classes()\n",
        "\n",
        "print(\"\\n\".join(classnames))"
      ]
    },
    {
      "cell_type": "code",
      "execution_count": 3,
      "metadata": {},
      "outputs": [],
      "source": [
        "### TO RUN\n",
        "fm_dir = \"data/feature_matrices/\" # where to save the features matrices\n",
        "model_dir = \"data/models/\" # where to save the models\n",
        "os.makedirs(fm_dir, exist_ok=True)\n",
        "os.makedirs(model_dir, exist_ok=True)"
      ]
    },
    {
      "cell_type": "markdown",
      "metadata": {},
      "source": [
        "<font size=5 color=#009999> 3.1. Probability vector </font> <br>\n",
        "\n",
        "A clear drawback of the models considered in ``hands_on_classif2_audio_student.ipynb`` is that they only output the most probable class, but do not provide any confidence estimate of this prediction. It is generally better to output a vector of probabilities for all the classes at each prediction, hence allowing the models to hesitate between different classes. \n",
        "Remember a vector of probability can be defined as \n",
        "\n",
        "\\begin{equation*}\n",
        "    \\mathbb P \\{ i \\} \\in [0,1], ~~\\sum_i \\mathbb P \\{ i \\} = 1. \n",
        "\\end{equation*}\n",
        "\n",
        "There are many ways to do so:\n",
        "\n",
        "- **Adapt the models**, e.g. for the ``KNN`` classifier, give the probability of class ``i`` as the ratio between the number of neighbours with label ``i`` and the total number of considered neighbours ``K``.\n",
        "- **Use other models**: a ``CNN`` classifier is suited for outputting probability values for each class.\n",
        "- **Compare with old predictions**: the probability of class ``i`` may simply be given as the ratio of its appearances in the (arbitrarily chosen) ``N`` last predictions.\n",
        "\n",
        "The last bullet implies the use of old predictions to compute a probability estimate. This leads to the notion of memory in the predictions, that we discuss in the second part of this notebook."
      ]
    },
    {
      "cell_type": "markdown",
      "metadata": {},
      "source": [
        "Let us start by creating a dataset ``myds`` and taking the model trained in ````hands_on_classif2_audio.ipynb````.\n",
        "\n",
        "Don't forget to normalize your feature vectors as well as reduce their dimensionality if you trained your model with such data."
      ]
    },
    {
      "cell_type": "code",
      "execution_count": 4,
      "metadata": {},
      "outputs": [],
      "source": [
        "# ### TO COMPLETE - Uncomment the following line\n",
        "# model_knn = pickle.load(open(\"data/models/model.pickle\", 'rb')) # Write your path to the model here!\n",
        "# normalize = True\n",
        "# n_PCA = 2 # Number of principal components kept\n",
        "# pca = PCA(n_components=n_PCA)\n",
        "# X= np.load(\"data/feature_matrices/feature_matrix_final_2D.npy\")\n",
        "\n",
        "# pca.fit(X)\n",
        "\n",
        "# Load random forest classifier\n",
        "rf_classifier = pickle.load(open(\"data/models/randomforest.pickle\", 'rb'))\n",
        "\n",
        "# No PCA nor normalization\n",
        "\n",
        "\"Creation of the dataset\"\n",
        "myds = Feature_vector_DS(dataset, Nft=512, nmel=20, duration=950, shift_pct=0.0, normalize=False, pca=None) "
      ]
    },
    {
      "cell_type": "markdown",
      "metadata": {},
      "source": [
        "Open-Source code makes life easy! The ``KNeighborsClassifier`` from Sklearn already contains a ``predict_proba`` method. Start getting some intuition on this probability vector by playing with the chosen feature vector. <br>\n",
        "\n",
        "Run the following code many times by changing  ``cls_index``. <br>"
      ]
    },
    {
      "cell_type": "code",
      "execution_count": 9,
      "metadata": {},
      "outputs": [
        {
          "data": {
            "image/png": "[encoded data removed]",
            "text/plain": [
              "<Figure size 400x300 with 2 Axes>"
            ]
          },
          "metadata": {},
          "output_type": "display_data"
        },
        {
          "ename": "ValueError",
          "evalue": "X has 400 features, but RandomForestClassifier is expecting 200 features as input.",
          "output_type": "error",
          "traceback": [
            "\u001b[1;31m---------------------------------------------------------------------------\u001b[0m",
            "\u001b[1;31mValueError\u001b[0m                                Traceback (most recent call last)",
            "\u001b[1;32md:\\Master1\\Q1\\LELEC210x\\LELEC210X\\classification\\hands_on_classif3_confidence_and_memory.ipynb Cell 9\u001b[0m line \u001b[0;36m2\n\u001b[0;32m     <a href='vscode-notebook-cell:/d%3A/Master1/Q1/LELEC210x/LELEC210X/classification/hands_on_classif3_confidence_and_memory.ipynb#X11sZmlsZQ%3D%3D?line=22'>23</a>\u001b[0m mat \u001b[39m=\u001b[39m np\u001b[39m.\u001b[39mzeros((\u001b[39m2\u001b[39m, \u001b[39mlen\u001b[39m(thisfv)))\n\u001b[0;32m     <a href='vscode-notebook-cell:/d%3A/Master1/Q1/LELEC210x/LELEC210X/classification/hands_on_classif3_confidence_and_memory.ipynb#X11sZmlsZQ%3D%3D?line=23'>24</a>\u001b[0m mat[\u001b[39m0\u001b[39m] \u001b[39m=\u001b[39m thisfv\n\u001b[1;32m---> <a href='vscode-notebook-cell:/d%3A/Master1/Q1/LELEC210x/LELEC210X/classification/hands_on_classif3_confidence_and_memory.ipynb#X11sZmlsZQ%3D%3D?line=24'>25</a>\u001b[0m prediction_rf \u001b[39m=\u001b[39m rf_classifier\u001b[39m.\u001b[39;49mpredict(mat)\n\u001b[0;32m     <a href='vscode-notebook-cell:/d%3A/Master1/Q1/LELEC210x/LELEC210X/classification/hands_on_classif3_confidence_and_memory.ipynb#X11sZmlsZQ%3D%3D?line=25'>26</a>\u001b[0m \u001b[39mprint\u001b[39m(\u001b[39m'\u001b[39m\u001b[39mClass predicted by Random Forest:\u001b[39m\u001b[39m'\u001b[39m, prediction_rf[\u001b[39m0\u001b[39m])\n\u001b[0;32m     <a href='vscode-notebook-cell:/d%3A/Master1/Q1/LELEC210x/LELEC210X/classification/hands_on_classif3_confidence_and_memory.ipynb#X11sZmlsZQ%3D%3D?line=27'>28</a>\u001b[0m proba_rf \u001b[39m=\u001b[39m rf_classifier\u001b[39m.\u001b[39mpredict_proba(mat)\n",
            "File \u001b[1;32mc:\\Users\\renar\\AppData\\Local\\pypoetry\\Cache\\virtualenvs\\lelec210x-1z0NCqGZ-py3.9\\lib\\site-packages\\sklearn\\ensemble\\_forest.py:823\u001b[0m, in \u001b[0;36mForestClassifier.predict\u001b[1;34m(self, X)\u001b[0m\n\u001b[0;32m    802\u001b[0m \u001b[39mdef\u001b[39;00m \u001b[39mpredict\u001b[39m(\u001b[39mself\u001b[39m, X):\n\u001b[0;32m    803\u001b[0m \u001b[39m    \u001b[39m\u001b[39m\"\"\"\u001b[39;00m\n\u001b[0;32m    804\u001b[0m \u001b[39m    Predict class for X.\u001b[39;00m\n\u001b[0;32m    805\u001b[0m \n\u001b[1;32m   (...)\u001b[0m\n\u001b[0;32m    821\u001b[0m \u001b[39m        The predicted classes.\u001b[39;00m\n\u001b[0;32m    822\u001b[0m \u001b[39m    \"\"\"\u001b[39;00m\n\u001b[1;32m--> 823\u001b[0m     proba \u001b[39m=\u001b[39m \u001b[39mself\u001b[39;49m\u001b[39m.\u001b[39;49mpredict_proba(X)\n\u001b[0;32m    825\u001b[0m     \u001b[39mif\u001b[39;00m \u001b[39mself\u001b[39m\u001b[39m.\u001b[39mn_outputs_ \u001b[39m==\u001b[39m \u001b[39m1\u001b[39m:\n\u001b[0;32m    826\u001b[0m         \u001b[39mreturn\u001b[39;00m \u001b[39mself\u001b[39m\u001b[39m.\u001b[39mclasses_\u001b[39m.\u001b[39mtake(np\u001b[39m.\u001b[39margmax(proba, axis\u001b[39m=\u001b[39m\u001b[39m1\u001b[39m), axis\u001b[39m=\u001b[39m\u001b[39m0\u001b[39m)\n",
            "File \u001b[1;32mc:\\Users\\renar\\AppData\\Local\\pypoetry\\Cache\\virtualenvs\\lelec210x-1z0NCqGZ-py3.9\\lib\\site-packages\\sklearn\\ensemble\\_forest.py:865\u001b[0m, in \u001b[0;36mForestClassifier.predict_proba\u001b[1;34m(self, X)\u001b[0m\n\u001b[0;32m    863\u001b[0m check_is_fitted(\u001b[39mself\u001b[39m)\n\u001b[0;32m    864\u001b[0m \u001b[39m# Check data\u001b[39;00m\n\u001b[1;32m--> 865\u001b[0m X \u001b[39m=\u001b[39m \u001b[39mself\u001b[39;49m\u001b[39m.\u001b[39;49m_validate_X_predict(X)\n\u001b[0;32m    867\u001b[0m \u001b[39m# Assign chunk of trees to jobs\u001b[39;00m\n\u001b[0;32m    868\u001b[0m n_jobs, _, _ \u001b[39m=\u001b[39m _partition_estimators(\u001b[39mself\u001b[39m\u001b[39m.\u001b[39mn_estimators, \u001b[39mself\u001b[39m\u001b[39m.\u001b[39mn_jobs)\n",
            "File \u001b[1;32mc:\\Users\\renar\\AppData\\Local\\pypoetry\\Cache\\virtualenvs\\lelec210x-1z0NCqGZ-py3.9\\lib\\site-packages\\sklearn\\ensemble\\_forest.py:599\u001b[0m, in \u001b[0;36mBaseForest._validate_X_predict\u001b[1;34m(self, X)\u001b[0m\n\u001b[0;32m    596\u001b[0m \u001b[39m\u001b[39m\u001b[39m\"\"\"\u001b[39;00m\n\u001b[0;32m    597\u001b[0m \u001b[39mValidate X whenever one tries to predict, apply, predict_proba.\"\"\"\u001b[39;00m\n\u001b[0;32m    598\u001b[0m check_is_fitted(\u001b[39mself\u001b[39m)\n\u001b[1;32m--> 599\u001b[0m X \u001b[39m=\u001b[39m \u001b[39mself\u001b[39;49m\u001b[39m.\u001b[39;49m_validate_data(X, dtype\u001b[39m=\u001b[39;49mDTYPE, accept_sparse\u001b[39m=\u001b[39;49m\u001b[39m\"\u001b[39;49m\u001b[39mcsr\u001b[39;49m\u001b[39m\"\u001b[39;49m, reset\u001b[39m=\u001b[39;49m\u001b[39mFalse\u001b[39;49;00m)\n\u001b[0;32m    600\u001b[0m \u001b[39mif\u001b[39;00m issparse(X) \u001b[39mand\u001b[39;00m (X\u001b[39m.\u001b[39mindices\u001b[39m.\u001b[39mdtype \u001b[39m!=\u001b[39m np\u001b[39m.\u001b[39mintc \u001b[39mor\u001b[39;00m X\u001b[39m.\u001b[39mindptr\u001b[39m.\u001b[39mdtype \u001b[39m!=\u001b[39m np\u001b[39m.\u001b[39mintc):\n\u001b[0;32m    601\u001b[0m     \u001b[39mraise\u001b[39;00m \u001b[39mValueError\u001b[39;00m(\u001b[39m\"\u001b[39m\u001b[39mNo support for np.int64 index based sparse matrices\u001b[39m\u001b[39m\"\u001b[39m)\n",
            "File \u001b[1;32mc:\\Users\\renar\\AppData\\Local\\pypoetry\\Cache\\virtualenvs\\lelec210x-1z0NCqGZ-py3.9\\lib\\site-packages\\sklearn\\base.py:626\u001b[0m, in \u001b[0;36mBaseEstimator._validate_data\u001b[1;34m(self, X, y, reset, validate_separately, cast_to_ndarray, **check_params)\u001b[0m\n\u001b[0;32m    623\u001b[0m     out \u001b[39m=\u001b[39m X, y\n\u001b[0;32m    625\u001b[0m \u001b[39mif\u001b[39;00m \u001b[39mnot\u001b[39;00m no_val_X \u001b[39mand\u001b[39;00m check_params\u001b[39m.\u001b[39mget(\u001b[39m\"\u001b[39m\u001b[39mensure_2d\u001b[39m\u001b[39m\"\u001b[39m, \u001b[39mTrue\u001b[39;00m):\n\u001b[1;32m--> 626\u001b[0m     \u001b[39mself\u001b[39;49m\u001b[39m.\u001b[39;49m_check_n_features(X, reset\u001b[39m=\u001b[39;49mreset)\n\u001b[0;32m    628\u001b[0m \u001b[39mreturn\u001b[39;00m out\n",
            "File \u001b[1;32mc:\\Users\\renar\\AppData\\Local\\pypoetry\\Cache\\virtualenvs\\lelec210x-1z0NCqGZ-py3.9\\lib\\site-packages\\sklearn\\base.py:415\u001b[0m, in \u001b[0;36mBaseEstimator._check_n_features\u001b[1;34m(self, X, reset)\u001b[0m\n\u001b[0;32m    412\u001b[0m     \u001b[39mreturn\u001b[39;00m\n\u001b[0;32m    414\u001b[0m \u001b[39mif\u001b[39;00m n_features \u001b[39m!=\u001b[39m \u001b[39mself\u001b[39m\u001b[39m.\u001b[39mn_features_in_:\n\u001b[1;32m--> 415\u001b[0m     \u001b[39mraise\u001b[39;00m \u001b[39mValueError\u001b[39;00m(\n\u001b[0;32m    416\u001b[0m         \u001b[39mf\u001b[39m\u001b[39m\"\u001b[39m\u001b[39mX has \u001b[39m\u001b[39m{\u001b[39;00mn_features\u001b[39m}\u001b[39;00m\u001b[39m features, but \u001b[39m\u001b[39m{\u001b[39;00m\u001b[39mself\u001b[39m\u001b[39m.\u001b[39m\u001b[39m__class__\u001b[39m\u001b[39m.\u001b[39m\u001b[39m__name__\u001b[39m\u001b[39m}\u001b[39;00m\u001b[39m \u001b[39m\u001b[39m\"\u001b[39m\n\u001b[0;32m    417\u001b[0m         \u001b[39mf\u001b[39m\u001b[39m\"\u001b[39m\u001b[39mis expecting \u001b[39m\u001b[39m{\u001b[39;00m\u001b[39mself\u001b[39m\u001b[39m.\u001b[39mn_features_in_\u001b[39m}\u001b[39;00m\u001b[39m features as input.\u001b[39m\u001b[39m\"\u001b[39m\n\u001b[0;32m    418\u001b[0m     )\n",
            "\u001b[1;31mValueError\u001b[0m: X has 400 features, but RandomForestClassifier is expecting 200 features as input."
          ]
        }
      ],
      "source": [
        "# ### TO RUN\n",
        "# cls_index = [\"fire\", 5]\n",
        "# myds.display(cls_index)\n",
        "# thisfv = myds.__getitem__(cls_index).reshape(-1)\n",
        "\n",
        "# # this artefact is necessary because the 'predict' function expects a matrix_like input.\n",
        "# mat = np.zeros((2, len(thisfv)))\n",
        "# mat[0] = thisfv\n",
        "\n",
        "# prediction_knn = model_knn.predict(mat)\n",
        "# print('Class predicted by KNN:', prediction_knn[0])\n",
        "\n",
        "# proba_knn = model_knn.predict_proba(mat)\n",
        "# plt.figure()\n",
        "# plt.bar(classnames, proba_knn[0])\n",
        "# plt.title('Probability of each class')\n",
        "# plt.show()\n",
        "\n",
        "cls_index = [\"helicopter\",6]\n",
        "myds.display(cls_index)\n",
        "thisfv = myds.__getitem__(cls_index).reshape(-1)\n",
        "\n",
        "mat = np.zeros((2, len(thisfv)))\n",
        "mat[0] = thisfv\n",
        "prediction_rf = rf_classifier.predict(mat)\n",
        "print('Class predicted by Random Forest:', prediction_rf[0])\n",
        "\n",
        "proba_rf = rf_classifier.predict_proba(mat)\n",
        "plt.figure()\n",
        "plt.bar(classnames, proba_rf[0])\n",
        "plt.title('Probability of each class')\n",
        "plt.show()"
      ]
    },
    {
      "cell_type": "markdown",
      "metadata": {},
      "source": [
        "**Question**:\n",
        "When the classifier miss-predicts, how distributed is the probability vector? Is it good news? How can we exploit that probability distribution for the prediction?"
      ]
    },
    {
      "cell_type": "markdown",
      "metadata": {},
      "source": [
        "### TO COMPLETE\n",
        "# Answer the question above\n",
        "Unfortunately for Random Forest it always seems kind of sure about its decisions. This might come from overfitting."
      ]
    },
    {
      "cell_type": "markdown",
      "metadata": {},
      "source": [
        "<font size=6 color=#009999> 3.2. Memory </font> <br>\n",
        "\n",
        "No matter if the predictions are one class only or probability vectors, as it is natural that consecutive feature vectors belong to the same class if the sound type changes slowlier than the duration of a feature vector, it can be helpful to link consecutive predictions and see how similar they are to either strengthen or decrease our confidence in the current guess. <br>\n",
        "\n",
        "Here, we will compare the predictions made on consecutive feature vectors belonging to the same 5s-long sound. \n",
        "Run the following code with different ``class_id``'s and different ``num``."
      ]
    },
    {
      "cell_type": "code",
      "execution_count": null,
      "metadata": {},
      "outputs": [],
      "source": [
        "### TO RUN\n",
        "num = 0 # 0 (default), 1, ..., 39\n",
        "\n",
        "AudioUtilInstance = AudioUtil()\n",
        "\n",
        "sound = dataset[\"birds\", num]\n",
        "audio = AudioUtil.open((), sound)\n",
        "audio = AudioUtil.resample((), audio, 11025)\n",
        "AudioUtil.play((), audio)\n",
        "\n",
        "\"Bar charts for each window\"\n",
        "n_win = 5\n",
        "probs = np.zeros((n_win, len(classnames)))\n",
        "for window in range(n_win):\n",
        "    sub_aud = (audio[0][window*11025:], audio[1])\n",
        "    sub_aud = AudioUtil.pad_trunc((), sub_aud, 950)\n",
        "    sgram = AudioUtilInstance.melspectrogram(sub_aud, Nmel=20)\n",
        "    ncol = int(1000*11025 /(1e3*512))\n",
        "    sgram = sgram[:, :ncol]\n",
        "    fv = sgram.reshape(-1)\n",
        "\n",
        "    ### TO COMPLETE - Eventually normalize and reduce feature vector dimensionality\n",
        "\n",
        "    # probs[window,:] = model_knn.predict_proba([fv])[0]\n",
        "    probs[window,:] = rf_classifier.predict_proba([fv])[0]\n",
        "\n",
        "\"Mean bar chart\"\n",
        "plt.figure()\n",
        "for window in range(n_win):\n",
        "    plt.bar(np.arange(len(classnames))*2*n_win+window, probs[window,:], alpha=0.9, label='Window {}'.format(window))\n",
        "plt.legend()\n",
        "plt.gca().set_xticks(np.arange(len(classnames))*2*n_win+2)\n",
        "plt.gca().set_xticklabels(classnames)\n",
        "plt.show()\n",
        "\n",
        "plt.figure()\n",
        "plt.bar(np.arange(len(classnames)), np.mean(probs, axis=0))\n",
        "plt.gca().set_xticks(np.arange(len(classnames)))\n",
        "plt.gca().set_xticklabels(classnames)\n",
        "plt.show()"
      ]
    },
    {
      "cell_type": "markdown",
      "metadata": {},
      "source": [
        "### Question:\n",
        "Are the bar plots similar between the 5 windows of the same 5s-long sound? With the default sound, how often does the right class win?"
      ]
    },
    {
      "cell_type": "markdown",
      "metadata": {},
      "source": [
        "### TO COMPLETE\n",
        "# Answer the question above\n",
        "\n",
        "Overal, chainsaw, handsaw and helicopter would never be picked (for sound birds, 0). However, we see that the results oscillate between birds and fire, with birds winning in 3 windows."
      ]
    },
    {
      "cell_type": "markdown",
      "metadata": {},
      "source": [
        "If it is relevant to combine $N$ consecutive feature vectors, there are many ways to output a prediction from it:\n",
        "- **Naive**: select the class that has the highest probability among all the considered feature vectors.\n",
        "- **Majority voting**: simply select the class that appears most often as the maximum probability of a feature vector.\n",
        "- **Average the feature representation**: compute the average of all feature vectors and classify from this average.\n",
        "- **Maximum Likelihood**: take a probabilistic approach and consider selecting class $i$ as\n",
        "    $$\n",
        "        \\text{argmax}_i~ \\log \\bigg(\\prod_{n=0}^{N-1} P(y[n]=i) \\bigg)\n",
        "        = \\text{argmax}_i~ \\sum_{n=0}^{N-1} \\log P(y[n]=i)\n",
        "    $$\n",
        "    with $y[n]$ the model prediction for the feature vector $n$.\n",
        "\n",
        "It will be part of your work to decide how you want to exploit the time information in your predictions."
      ]
    },
    {
      "cell_type": "markdown",
      "metadata": {},
      "source": [
        "Now you have all the necessary material to test a new classification model and make some objective analysis of its performances. <br>\n",
        "Follow the instructions on Moodle [written here](https://moodle.uclouvain.be/mod/assign/view.php?id=204607) to see what is expected in your ``fifth report (R5)``. <br>\n",
        "A lot of other classification models are already implemented by SKlearn, check the [SKlearn API](https://scikit-learn.org/stable/supervised_learning.html#supervised-learning). Don't hesitate to read some opinions and discussions on the forums or even articles to help you in the model choice. The most motivated of you are even allowed to give a try to more than one additional model, it is time smartly invested for the upcoming weeks of this project! Although we expect only one characterization in the ``R5``.\n",
        "\n",
        "Also, don't hesitate to get information from the Internet to learn how people use to deal with sound classification. We mention for example this idea of transfer learning that could be interesting for you in the second semester: https://www.youtube.com/watch?v=uCGROOUO_wY&t=1s "
      ]
    }
  ],
  "metadata": {
    "kernelspec": {
      "display_name": "Python 3.8.8 ('base')",
      "language": "python",
      "name": "python3"
    },
    "language_info": {
      "codemirror_mode": {
        "name": "ipython",
        "version": 3
      },
      "file_extension": ".py",
      "mimetype": "text/x-python",
      "name": "python",
      "nbconvert_exporter": "python",
      "pygments_lexer": "ipython3",
      "version": "3.9.0"
    },
    "vscode": {
      "interpreter": {
        "hash": "46df200377d403be22c796785365123e6a374b5da08e8292e6b2afda659c5a28"
      }
    }
  },
  "nbformat": 4,
  "nbformat_minor": 2
}
